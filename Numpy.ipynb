{
 "cells": [
  {
   "cell_type": "code",
   "execution_count": 50,
   "metadata": {},
   "outputs": [],
   "source": [
    "import numpy as np\n",
    "# Numpy stands for NUMerical PYthon\n"
   ]
  },
  {
   "cell_type": "code",
   "execution_count": 51,
   "metadata": {},
   "outputs": [
    {
     "name": "stdout",
     "output_type": "stream",
     "text": [
      "array1 type: <class 'numpy.ndarray'>\n",
      "array1 shape: (3,)\n"
     ]
    }
   ],
   "source": [
    "# Assign [1,2,3] to \"array1\" by using funtion in \"np\" and \"array\"\n",
    "array1 = np.array([1,2,3])\n",
    "print('array1 type:', type(array1))\n",
    "print('array1 shape:', array1.shape)"
   ]
  },
  {
   "cell_type": "code",
   "execution_count": 52,
   "metadata": {},
   "outputs": [
    {
     "name": "stdout",
     "output_type": "stream",
     "text": [
      "array2 type: <class 'numpy.ndarray'>\n",
      "array2 type: <class 'numpy.ndarray'>\n",
      "array2 sahpe: (2, 3)\n",
      "array3 sahpe: (1, 3)\n"
     ]
    }
   ],
   "source": [
    "# Let's build different shape of the np array to check the diffent dimension of data shape\n",
    "array2 = np.array([[1,2,3],[2,3,4]])\n",
    "array3 = np.array([[1,2,3]])\n",
    "\n",
    "print('array2 type:', type(array2))\n",
    "print('array2 type:', type(array3))\n",
    "print('array2 sahpe:', array2.shape)\n",
    "print('array3 sahpe:', array3.shape)"
   ]
  },
  {
   "cell_type": "code",
   "execution_count": 53,
   "metadata": {},
   "outputs": [
    {
     "name": "stdout",
     "output_type": "stream",
     "text": [
      "<class 'list'>\n"
     ]
    }
   ],
   "source": [
    "# To handle the data set, we need to care of the types of data.\n",
    "# Class of \"list1\" is 'list' and 'list1' has integer\n",
    "list1 = [1,2,3]\n",
    "print(type(list1))"
   ]
  },
  {
   "cell_type": "code",
   "execution_count": 54,
   "metadata": {},
   "outputs": [
    {
     "name": "stdout",
     "output_type": "stream",
     "text": [
      "<class 'numpy.ndarray'>\n",
      "[1 2 3] int32\n"
     ]
    }
   ],
   "source": [
    "# Change the data class 'list' to int32\n",
    "array4 = np.array(list1)\n",
    "print(type(array4))\n",
    "print(array1, array1.dtype)"
   ]
  },
  {
   "cell_type": "code",
   "execution_count": 55,
   "metadata": {},
   "outputs": [
    {
     "name": "stdout",
     "output_type": "stream",
     "text": [
      "<class 'list'> <class 'list'>\n",
      "<class 'numpy.ndarray'> <class 'numpy.ndarray'>\n",
      "['1' '2' 'test'] <U11 [1. 2. 3.] float64\n",
      "array5 changed the data type to Unicode and array6 changed the data type to float\n",
      "Unicode differentiates the data with '' and float shows you the decimal points\n"
     ]
    }
   ],
   "source": [
    "# \"list2\" has int and string types of data\n",
    "# \"list3\" has int and float types of data \n",
    "# And change these lists to ndarray\n",
    "list2 = [1,2,'test']\n",
    "list3 = [1,2,3.0]\n",
    "print(type(list2), type(list3))\n",
    "array5 = np.array(list2)\n",
    "array6 = np.array(list3)\n",
    "print(type(array5), type(array6))\n",
    "print(array5, array5.dtype,array6, array6.dtype)\n",
    "print(\"array5 changed the data type to Unicode and array6 changed the data type to float\")\n",
    "print (\"Unicode differentiates the data with '' and float shows you the decimal points\")"
   ]
  },
  {
   "cell_type": "code",
   "execution_count": 56,
   "metadata": {},
   "outputs": [
    {
     "name": "stdout",
     "output_type": "stream",
     "text": [
      "[1. 2. 3.] float64\n",
      "[1 2 3] int32\n",
      "[1 2 3] int32\n"
     ]
    }
   ],
   "source": [
    "# In the machine learning world, they require to open a whole data set and do ML, so we need to save a memory by changing the types of the data set\n",
    "# For example, float64 to int \n",
    "# This code will change data type int to float64 and change it back again\n",
    "array_int=np.array([1,2,3])\n",
    "array_float=array_int.astype('float64')\n",
    "print(array_float, array_float.dtype)\n",
    "\n",
    "array_int1=array_float.astype('int32')\n",
    "print(array_int1, array_int1.dtype)\n",
    "\n",
    "array_float1 = np.array([1.1, 2.1, 3.1])\n",
    "array_int2 = array_float1.astype('int32')\n",
    "print(array_int2, array_int2.dtype)"
   ]
  },
  {
   "cell_type": "code",
   "execution_count": 57,
   "metadata": {},
   "outputs": [
    {
     "name": "stdout",
     "output_type": "stream",
     "text": [
      "[0 1 2 3 4 5 6 7 8 9]\n",
      "int32 (10,)\n"
     ]
    }
   ],
   "source": [
    "# Using arange fuction, we can have a series of numbers; 0 to 9 and it is integer type with 1D.\n",
    "sequence_array = np.arange(10)\n",
    "print(sequence_array)\n",
    "print(sequence_array.dtype, sequence_array.shape)"
   ]
  },
  {
   "cell_type": "code",
   "execution_count": 58,
   "metadata": {},
   "outputs": [
    {
     "name": "stdout",
     "output_type": "stream",
     "text": [
      "[[0 0]\n",
      " [0 0]\n",
      " [0 0]]\n",
      "int32 (3, 2)\n",
      "[[1. 1.]\n",
      " [1. 1.]\n",
      " [1. 1.]]\n",
      "float64 (3, 2)\n"
     ]
    }
   ],
   "source": [
    "# zeros fills the data with 0 and we designate the data type and dimension.\n",
    "zero_array = np.zeros((3, 2), dtype='int32')\n",
    "print(zero_array)\n",
    "print(zero_array.dtype, zero_array.shape)\n",
    "\n",
    "# ones fills the data with 1 and if we don't specify the data type goes with a default, float64\n",
    "one_array = np.ones((3,2))\n",
    "print(one_array)\n",
    "print(one_array.dtype, one_array.shape)"
   ]
  },
  {
   "cell_type": "code",
   "execution_count": 59,
   "metadata": {},
   "outputs": [
    {
     "name": "stdout",
     "output_type": "stream",
     "text": [
      "array7:\n",
      " [0 1 2 3 4 5 6 7 8 9]\n",
      "array8:\n",
      " [[0 1 2 3 4]\n",
      " [5 6 7 8 9]]\n",
      "array9:\n",
      " [[0 1]\n",
      " [2 3]\n",
      " [4 5]\n",
      " [6 7]\n",
      " [8 9]]\n"
     ]
    }
   ],
   "source": [
    "# reshape function change the dimension of the data set\n",
    "# (row, column)\n",
    "array7 = np.arange(10)\n",
    "print('array7:\\n', array7)\n",
    "array8 = array7.reshape(2,5)\n",
    "print('array8:\\n', array8)\n",
    "array9 = array7.reshape(5,2)\n",
    "print('array9:\\n', array9)\n",
    "# With 'array7', we couldn't make (4,3)"
   ]
  },
  {
   "cell_type": "code",
   "execution_count": 60,
   "metadata": {},
   "outputs": [
    {
     "name": "stdout",
     "output_type": "stream",
     "text": [
      "[[0 1 2 3 4]\n",
      " [5 6 7 8 9]]\n",
      "[[0 1]\n",
      " [2 3]\n",
      " [4 5]\n",
      " [6 7]\n",
      " [8 9]]\n"
     ]
    }
   ],
   "source": [
    "# If we apply -1 for row or column, it automatically match with a specified number, column or row.\n",
    "array10 = array7.reshape(-1, 5)\n",
    "array11 = array7.reshape(5, -1)\n",
    "print(array10)\n",
    "print(array11)\n",
    "# However, if we set 4 for row or column, we couldn't get the result becuase we can have integer with 4 in 10."
   ]
  },
  {
   "cell_type": "code",
   "execution_count": 61,
   "metadata": {},
   "outputs": [
    {
     "name": "stdout",
     "output_type": "stream",
     "text": [
      "array3d:\n",
      " [[[0 1]\n",
      "  [2 3]]\n",
      "\n",
      " [[4 5]\n",
      "  [6 7]]]\n",
      "array3d:\n",
      " [[[0, 1], [2, 3]], [[4, 5], [6, 7]]]\n",
      "array13:\n",
      " [[0], [1], [2], [3], [4], [5], [6], [7]]\n",
      "array13 shape: (8, 1)\n",
      "array13:\n",
      " [[0], [1], [2], [3], [4], [5], [6], [7]]\n",
      "array13 shape: (8, 1)\n"
     ]
    }
   ],
   "source": [
    "array12 = np.arange(8)\n",
    "array3d = array12.reshape(2,2,2)\n",
    "print('array3d:\\n', array3d)\n",
    "# tolist function change the data type to 'list' and we use this to catch the differences easily.\n",
    "print('array3d:\\n', array3d.tolist())\n",
    "\n",
    "# 3D to 2D\n",
    "array13 = array3d.reshape(-1,1)\n",
    "print('array13:\\n', array13.tolist())\n",
    "print('array13 shape:', array13.shape)\n",
    "\n",
    "# 1D to 2D\n",
    "array13 = array12.reshape(-1, 1)\n",
    "print('array13:\\n', array13.tolist())\n",
    "print('array13 shape:', array13.shape)"
   ]
  },
  {
   "cell_type": "code",
   "execution_count": 62,
   "metadata": {},
   "outputs": [
    {
     "name": "stdout",
     "output_type": "stream",
     "text": [
      "array14: [1 2 3 4 5 6 7 8 9]\n"
     ]
    }
   ],
   "source": [
    "# From here, we are going to check the indexing\n",
    "array14 = np.arange(start=1, stop=10)\n",
    "print('array14:', array14)"
   ]
  },
  {
   "cell_type": "code",
   "execution_count": 63,
   "metadata": {},
   "outputs": [
    {
     "name": "stdout",
     "output_type": "stream",
     "text": [
      "value: 3\n",
      "<class 'numpy.int32'>\n"
     ]
    }
   ],
   "source": [
    "# Index starts from '0' and 2 means the third one.\n",
    "value = array14[2]\n",
    "print('value:', value)\n",
    "print(type(value))"
   ]
  },
  {
   "cell_type": "code",
   "execution_count": 64,
   "metadata": {},
   "outputs": [
    {
     "name": "stdout",
     "output_type": "stream",
     "text": [
      "the last: 9 the second from the last: 8\n"
     ]
    }
   ],
   "source": [
    "# we can call the data from the last using '-'\n",
    "print('the last:', array14[-1], 'the second from the last:', array14[-2])"
   ]
  },
  {
   "cell_type": "code",
   "execution_count": 65,
   "metadata": {},
   "outputs": [
    {
     "name": "stdout",
     "output_type": "stream",
     "text": [
      "Revised array14: [9 2 3 4 5 6 7 8 0]\n"
     ]
    }
   ],
   "source": [
    "# With a single inedx, we can change the data.\n",
    "array14[0] = 9\n",
    "array14[8] = 0\n",
    "print('Revised array14:', array14)"
   ]
  },
  {
   "cell_type": "code",
   "execution_count": 66,
   "metadata": {},
   "outputs": [
    {
     "name": "stdout",
     "output_type": "stream",
     "text": [
      "[[1 2 3]\n",
      " [4 5 6]\n",
      " [7 8 9]]\n",
      "row = 0, col = 0 is  1\n",
      "row = 0, col = 1 is  2\n",
      "row = 1, col = 0 is  4\n",
      "row = 2, col = 2 is  9\n"
     ]
    }
   ],
   "source": [
    "# Note! Specifically, in ndarray, we don't say row and column, but we say axis0 and axis1\n",
    "array1d = np.arange(start=1, stop=10)\n",
    "array2d = array1d.reshape(3,3)\n",
    "print(array2d)\n",
    "\n",
    "print('row = 0, col = 0 is ', array2d[0, 0])\n",
    "print('row = 0, col = 1 is ', array2d[0, 1] )\n",
    "print('row = 1, col = 0 is ', array2d[1, 0])\n",
    "print('row = 2, col = 2 is ', array2d[2, 2])"
   ]
  },
  {
   "cell_type": "code",
   "execution_count": 67,
   "metadata": {},
   "outputs": [
    {
     "name": "stdout",
     "output_type": "stream",
     "text": [
      "[9 2 3 4 5 6 7 8 0]\n",
      "[9 2 3] <class 'numpy.ndarray'>\n",
      "[9 2 3]\n",
      "[4 5 6 7 8 0]\n",
      "[9 2 3 4 5 6 7 8 0]\n"
     ]
    }
   ],
   "source": [
    "# We can apply different export ways. Here we are going to do Slicing.\n",
    "array15 = array14[0:3]\n",
    "print(array14)\n",
    "print(array15, type(array15))\n",
    "\n",
    "array16 = array14[:3]\n",
    "array17 = array14[3:]\n",
    "array18 = array14[:]\n",
    "print(array16)\n",
    "print(array17)\n",
    "print(array18)"
   ]
  },
  {
   "cell_type": "code",
   "execution_count": 68,
   "metadata": {},
   "outputs": [
    {
     "name": "stdout",
     "output_type": "stream",
     "text": [
      "array2d:\n",
      " [[1 2 3]\n",
      " [4 5 6]\n",
      " [7 8 9]]\n",
      "array2d[0:2, 0:2] \n",
      " [[1 2]\n",
      " [4 5]]\n",
      "array2d[1:3, 0:3] \n",
      " [[4 5 6]\n",
      " [7 8 9]]\n",
      "array2d[1:3, :] \n",
      " [[4 5 6]\n",
      " [7 8 9]]\n",
      "array2d[:, :] \n",
      " [[1 2 3]\n",
      " [4 5 6]\n",
      " [7 8 9]]\n",
      "array2d[:2, 1:] \n",
      " [[2 3]\n",
      " [5 6]]\n",
      "array2d[:2, 0] \n",
      " [1 4]\n"
     ]
    }
   ],
   "source": [
    "# Same data export, in 2D data set\n",
    "print('array2d:\\n', array2d)\n",
    "\n",
    "print('array2d[0:2, 0:2] \\n', array2d[0:2, 0:2])\n",
    "print('array2d[1:3, 0:3] \\n', array2d[1:3, 0:3])\n",
    "print('array2d[1:3, :] \\n', array2d[1:3, :])\n",
    "print('array2d[:, :] \\n', array2d[:, :])\n",
    "print('array2d[:2, 1:] \\n', array2d[:2, 1:])\n",
    "print('array2d[:2, 0] \\n', array2d[:2, 0])\n"
   ]
  },
  {
   "cell_type": "code",
   "execution_count": 69,
   "metadata": {},
   "outputs": [
    {
     "name": "stdout",
     "output_type": "stream",
     "text": [
      "(3,) [1 2 3]\n",
      "(3,) [4 5 6]\n"
     ]
    }
   ],
   "source": [
    "# Without the following index, it returns the 1d data\n",
    "print(array2d[0].shape, array2d[0])\n",
    "print(array2d[1].shape, array2d[1])"
   ]
  },
  {
   "cell_type": "code",
   "execution_count": 70,
   "metadata": {},
   "outputs": [
    {
     "name": "stdout",
     "output_type": "stream",
     "text": [
      "[[1 2 3]\n",
      " [4 5 6]\n",
      " [7 8 9]]\n",
      "[3, 6]\n",
      "[[1, 2], [4, 5]]\n",
      "[[1, 2, 3], [4, 5, 6]]\n"
     ]
    }
   ],
   "source": [
    "# Here, we are going to do Fancy indexing.\n",
    "print(array2d)\n",
    "\n",
    "# this returns (0,2) and (1,2)\n",
    "array3 = array2d[[0, 1], 2]\n",
    "\n",
    "# this returns (0,0), (0,1) and (1,0), (1,1)\n",
    "array4 = array2d[[0,1], 0:2]\n",
    "\n",
    "# this returns (0, :), (1, :)\n",
    "array5 = array2d[[0,1]]\n",
    "print(array3.tolist())\n",
    "print(array4.tolist())\n",
    "print(array5.tolist())"
   ]
  },
  {
   "cell_type": "code",
   "execution_count": 71,
   "metadata": {},
   "outputs": [
    {
     "name": "stdout",
     "output_type": "stream",
     "text": [
      "[1 2 3 4 5 6 7 8 9] [6 7 8 9]\n"
     ]
    }
   ],
   "source": [
    "# Boolean indexing is fancy index function by searching and sorting (filtering) at the same time.\n",
    "array1d = np.arange(start=1, stop=10)\n",
    "array19 = array1d[array1d > 5]\n",
    "print(array1d, array19)"
   ]
  },
  {
   "cell_type": "code",
   "execution_count": 72,
   "metadata": {},
   "outputs": [
    {
     "name": "stdout",
     "output_type": "stream",
     "text": [
      "[False False False False False  True  True  True  True]\n"
     ]
    }
   ],
   "source": [
    "print(array1d > 5)"
   ]
  },
  {
   "cell_type": "code",
   "execution_count": 73,
   "metadata": {},
   "outputs": [
    {
     "name": "stdout",
     "output_type": "stream",
     "text": [
      "[False False False False False  True  True  True  True] [6 7 8 9]\n"
     ]
    }
   ],
   "source": [
    "# In this case, \"boolean_indexes\" has the boolean data and IF it merge with data from \"array1d\" for \"array20\", based on the boolean data, \"array20\" has >5 data.\n",
    "boolean_indexes = np.array([False, False, False, False, False, True, True, True, True])\n",
    "array20 = array1d[boolean_indexes]\n",
    "print(boolean_indexes, array20)"
   ]
  },
  {
   "cell_type": "code",
   "execution_count": 74,
   "metadata": {},
   "outputs": [
    {
     "name": "stdout",
     "output_type": "stream",
     "text": [
      "[6 7 8 9]\n"
     ]
    }
   ],
   "source": [
    "# Once you use the index to print \"array21\", 5 to 8 means the index position. So, 6 to 9 is corresponding to the index calling number.\n",
    "indexes = np.array([5, 6, 7, 8])\n",
    "array21 = array1d[indexes]\n",
    "print(array21)"
   ]
  },
  {
   "cell_type": "code",
   "execution_count": 75,
   "metadata": {},
   "outputs": [
    {
     "name": "stdout",
     "output_type": "stream",
     "text": [
      "[3 1 9 5]\n"
     ]
    }
   ],
   "source": [
    "org_array = np.array([3, 1, 9, 5])\n",
    "print(org_array)"
   ]
  },
  {
   "cell_type": "code",
   "execution_count": 76,
   "metadata": {},
   "outputs": [
    {
     "name": "stdout",
     "output_type": "stream",
     "text": [
      "[3 1 9 5] [1 3 5 9]\n"
     ]
    }
   ],
   "source": [
    "# In a case of using \"np.sort()\"\n",
    "sort_array1 = np.sort(org_array)\n",
    "print(org_array, sort_array1)"
   ]
  },
  {
   "cell_type": "code",
   "execution_count": 77,
   "metadata": {},
   "outputs": [
    {
     "name": "stdout",
     "output_type": "stream",
     "text": [
      "[1 3 5 9] None\n"
     ]
    }
   ],
   "source": [
    "# In a case of using \"ndarray.sort()\"\n",
    "sort_array2 = org_array.sort()\n",
    "print(org_array, sort_array2)\n",
    "# \"ndarray.sort() does not return the number, but it sorts the numbers\""
   ]
  },
  {
   "cell_type": "code",
   "execution_count": 78,
   "metadata": {},
   "outputs": [
    {
     "name": "stdout",
     "output_type": "stream",
     "text": [
      "[9 5 3 1]\n"
     ]
    }
   ],
   "source": [
    "# In case of sorting with descending order \n",
    "sort_array2_desc = np.sort(org_array)[::-1]\n",
    "print(sort_array2_desc)"
   ]
  },
  {
   "cell_type": "code",
   "execution_count": 79,
   "metadata": {},
   "outputs": [
    {
     "name": "stdout",
     "output_type": "stream",
     "text": [
      "re-arrange in Row direction:\n",
      " [[ 7  1]\n",
      " [ 8 12]]\n"
     ]
    }
   ],
   "source": [
    "# Matirix axis selection and re-arranging\n",
    "array2d = np.array([[8,12],\n",
    "                    [7,1]])\n",
    "# Set \"axis=0\" means a vertical axis which is for 8 and 7\n",
    "sort_array2d_axis0 = np.sort(array2d, axis=0)\n",
    "print('re-arrange in Row direction:\\n', sort_array2d_axis0)\n"
   ]
  },
  {
   "cell_type": "code",
   "execution_count": 80,
   "metadata": {},
   "outputs": [
    {
     "name": "stdout",
     "output_type": "stream",
     "text": [
      "re-arrange in Column direction:\n",
      " [[ 8 12]\n",
      " [ 1  7]]\n"
     ]
    }
   ],
   "source": [
    "# Set \"axis=1\" means a horizental axis which is for 8 and 12\n",
    "sort_array2d_axis1 = np.sort(array2d, axis=1)\n",
    "print('re-arrange in Column direction:\\n', sort_array2d_axis1)"
   ]
  },
  {
   "cell_type": "code",
   "execution_count": 81,
   "metadata": {},
   "outputs": [
    {
     "name": "stdout",
     "output_type": "stream",
     "text": [
      "<class 'numpy.ndarray'>\n",
      "Original index of the matrix when arrange the matrix: [[1 0 3 2]]\n"
     ]
    }
   ],
   "source": [
    "# what the index of matrix is the order of the number in the matrix\n",
    "# In this work, 3 has 0, and 1 has 1 so on...\n",
    "org_array = np.array([3, 1, 9, 5])\n",
    "# rearrange all of components and store their index which is the value in the original set\n",
    "sort_indices = np.argsort([org_array])\n",
    "print(type(sort_indices))\n",
    "print('Original index of the matrix when arrange the matrix:', sort_indices)"
   ]
  },
  {
   "cell_type": "code",
   "execution_count": 86,
   "metadata": {},
   "outputs": [
    {
     "name": "stdout",
     "output_type": "stream",
     "text": [
      "<class 'numpy.ndarray'>\n",
      "Original index of the matrix when arrange the matrix in descending order: [2 3 0 1]\n"
     ]
    }
   ],
   "source": [
    "org_array2 = np.array([3, 1, 9, 5])\n",
    "sort_indices_desc = np.argsort(org_array2)[::-1]\n",
    "print(type(sort_indices_desc))\n",
    "print(\"Original index of the matrix when arrange the matrix in descending order:\", sort_indices_desc)"
   ]
  },
  {
   "cell_type": "code",
   "execution_count": 91,
   "metadata": {},
   "outputs": [
    {
     "name": "stdout",
     "output_type": "stream",
     "text": [
      "score_array index when it rearranged with ascending order: [0 2 4 1 3]\n",
      "pring the name from name array when it arranged with ascending order: ['John' 'Sarah' 'Samuel' 'Mike' 'Kate']\n"
     ]
    }
   ],
   "source": [
    "name_array = np.array(['John', 'Mike', 'Sarah', 'Kate', 'Samuel'])\n",
    "score_array = np.array([78, 95, 84, 98, 88])\n",
    "\n",
    "sort_indices_asc = np.argsort(score_array)\n",
    "print('score_array index when it rearranged with ascending order:', sort_indices_asc)\n",
    "print('pring the name from name array when it arranged with ascending order:', name_array[sort_indices_asc])"
   ]
  },
  {
   "cell_type": "code",
   "execution_count": 93,
   "metadata": {},
   "outputs": [
    {
     "name": "stdout",
     "output_type": "stream",
     "text": [
      "[[ 58  64]\n",
      " [139 154]]\n"
     ]
    }
   ],
   "source": [
    "# Inner product, dot product, scalar product, projection product...\n",
    "A = np.array([[1,2,3],\n",
    "             [4,5,6]])\n",
    "B= np.array([[7,8],\n",
    "             [9,10],\n",
    "             [11,12]])\n",
    "# 1,2,3 * 7,9,11 for (0,0)\n",
    "dot_product = np.dot(A,B)\n",
    "print(dot_product)"
   ]
  },
  {
   "cell_type": "code",
   "execution_count": 102,
   "metadata": {},
   "outputs": [
    {
     "name": "stdout",
     "output_type": "stream",
     "text": [
      "[[1 4]\n",
      " [2 5]\n",
      " [3 6]] \n",
      " \n",
      " [[ 7  9 11]\n",
      " [ 8 10 12]]\n"
     ]
    }
   ],
   "source": [
    "# Transpose\n",
    "transpose_mat_A = np.transpose(A)\n",
    "transpose_mat_B = np.transpose(B)\n",
    "print(transpose_mat_A,\"\\n\",\"\\n\", transpose_mat_B)"
   ]
  }
 ],
 "metadata": {
  "kernelspec": {
   "display_name": "Python 3",
   "language": "python",
   "name": "python3"
  },
  "language_info": {
   "codemirror_mode": {
    "name": "ipython",
    "version": 3
   },
   "file_extension": ".py",
   "mimetype": "text/x-python",
   "name": "python",
   "nbconvert_exporter": "python",
   "pygments_lexer": "ipython3",
   "version": "3.9.5"
  },
  "orig_nbformat": 4
 },
 "nbformat": 4,
 "nbformat_minor": 2
}
